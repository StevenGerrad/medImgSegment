{
 "cells": [
  {
   "cell_type": "markdown",
   "metadata": {},
   "source": [
    "## practise to use Jupyter&keras\n",
    "\n",
    "date: 2019.11.8"
   ]
  },
  {
   "cell_type": "code",
   "execution_count": 5,
   "metadata": {},
   "outputs": [],
   "source": [
    "from keras.layers import Dense, Activation, Convolution2D, MaxPooling2D, Flatten\n",
    "import numpy as np\n",
    "# import mnist_reader\n",
    "import mnistRead"
   ]
  },
  {
   "cell_type": "code",
   "execution_count": 6,
   "metadata": {},
   "outputs": [
    {
     "name": "stdout",
     "output_type": "stream",
     "text": [
      "[9 0 0 3 0 2 7 2 5 5]\n",
      "[9 2 1 1 6 1 4 6 5 7]\n"
     ]
    },
    {
     "data": {
      "image/png": "[encoded data removed]",
      "text/plain": [
       "<matplotlib.figure.Figure at 0x1ecdc071e80>"
      ]
     },
     "metadata": {
      "needs_background": "light"
     },
     "output_type": "display_data"
    }
   ],
   "source": [
    "# prepare the data -- Fashion mnist (this need the module--mnist_reader)\n",
    "'''\n",
    "X_train, y_train = mnist_reader.load_mnist('data/fashion', kind='train')\n",
    "X_test, y_test = mnist_reader.load_mnist('data/fashion', kind='t10k')\n",
    "'''\n",
    "# we use the method of: https://blog.csdn.net/cqy_chen/article/details/80059576\n",
    "X_train,Y_train,X_test,Y_test = mnistRead.get_data();\n"
   ]
  },
  {
   "cell_type": "code",
   "execution_count": null,
   "metadata": {},
   "outputs": [],
   "source": [
    "model.add(Convolution2D(\n",
    "    batch_input_shape = (64, 1 28, 28);\n",
    "    filters = 32;\n",
    "    kernal_size = 5;\n",
    "    strides=1,\n",
    "    padding='same',      # Padding method\n",
    "    data_format='channels_first',\n",
    "))\n",
    "model.add(Activation('relu'))\n"
   ]
  },
  {
   "cell_type": "code",
   "execution_count": 9,
   "metadata": {},
   "outputs": [
    {
     "name": "stdout",
     "output_type": "stream",
     "text": [
      "Variable        Type       Data/Info\n",
      "------------------------------------\n",
      "Activation      type       <class 'keras.layers.core.Activation'>\n",
      "Convolution2D   type       <class 'keras.layers.convolutional.Conv2D'>\n",
      "Dense           type       <class 'keras.layers.core.Dense'>\n",
      "Flatten         type       <class 'keras.layers.core.Flatten'>\n",
      "MaxPooling2D    type       <class 'keras.layers.pooling.MaxPooling2D'>\n",
      "X_test          ndarray    10000x784: 7840000 elems, type `int32`, 31360000 bytes (29.9072265625 Mb)\n",
      "X_train         ndarray    60000x784: 47040000 elems, type `int32`, 188160000 bytes (179.443359375 Mb)\n",
      "Y_test          ndarray    10000: 10000 elems, type `int32`, 40000 bytes\n",
      "Y_train         ndarray    60000: 60000 elems, type `int32`, 240000 bytes (234.375 kb)\n",
      "mnistRead       module     <module 'mnistRead' from <...>vidalCode\\\\mnistRead.py'>\n",
      "np              module     <module 'numpy' from 'D:\\<...>ges\\\\numpy\\\\__init__.py'>\n"
     ]
    }
   ],
   "source": [
    "%whos\n"
   ]
  }
 ],
 "metadata": {
  "kernelspec": {
   "display_name": "Python 3",
   "language": "python",
   "name": "python3"
  },
  "language_info": {
   "codemirror_mode": {
    "name": "ipython",
    "version": 3
   },
   "file_extension": ".py",
   "mimetype": "text/x-python",
   "name": "python",
   "nbconvert_exporter": "python",
   "pygments_lexer": "ipython3",
   "version": "3.6.4"
  }
 },
 "nbformat": 4,
 "nbformat_minor": 2
}
